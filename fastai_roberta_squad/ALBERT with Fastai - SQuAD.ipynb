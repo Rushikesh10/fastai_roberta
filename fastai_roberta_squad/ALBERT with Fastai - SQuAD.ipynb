{
 "cells": [
  {
   "cell_type": "markdown",
   "metadata": {},
   "source": [
    "# ALBERT with Fastai - SquAD Scratch"
   ]
  },
  {
   "cell_type": "code",
   "execution_count": 1,
   "metadata": {
    "ExecuteTime": {
     "end_time": "2020-01-21T20:16:07.740613Z",
     "start_time": "2020-01-21T20:16:06.694337Z"
    }
   },
   "outputs": [],
   "source": [
    "from fastai.text import *\n",
    "from fastai.metrics import *\n",
    "import torch\n",
    "\n",
    "from transformers import AlbertForQuestionAnswering, AlbertTokenizer\n",
    "import jsonlines"
   ]
  },
  {
   "cell_type": "code",
   "execution_count": 2,
   "metadata": {
    "ExecuteTime": {
     "end_time": "2020-01-21T20:16:07.746432Z",
     "start_time": "2020-01-21T20:16:07.742247Z"
    }
   },
   "outputs": [],
   "source": [
    "# defining utility functions\n",
    "\n",
    "def str2tensor(s,adj):\n",
    "    indices = re.findall(\"\\d+\",s)\n",
    "    return torch.tensor([int(indices[0])+adj, int(indices[1])+adj], dtype=torch.long)\n",
    "\n",
    "# Creating a config class to store task specific information\n",
    "class Config(dict):\n",
    "    def __init__(self, **kwargs):\n",
    "        super().__init__(**kwargs)\n",
    "        for k, v in kwargs.items():\n",
    "            setattr(self, k, v)\n",
    "    \n",
    "    def set(self, key, val):\n",
    "        self[key] = val\n",
    "        setattr(self, key, val)"
   ]
  },
  {
   "cell_type": "code",
   "execution_count": 3,
   "metadata": {
    "ExecuteTime": {
     "end_time": "2020-01-21T20:16:07.761834Z",
     "start_time": "2020-01-21T20:16:07.747933Z"
    }
   },
   "outputs": [],
   "source": [
    "# defining our configuration\n",
    "config = Config(\n",
    "    task = \"SQuAD\",\n",
    "    testing=False,\n",
    "    seed = 2019,\n",
    "    bert_model_name='albert-base-v2', # can also be exchanged with bert-large \n",
    "    pad_idx = 0,\n",
    "    max_lr=5e-5,\n",
    "    epochs=1,\n",
    "    use_fp16=False,\n",
    "    bs=4, \n",
    "    max_seq_len=384,\n",
    "    hidden_dropout_prob=.05,\n",
    "    hidden_size=768, # 1024 for bert-large\n",
    "    start_tok = \"[CLS]\",\n",
    "    end_tok = \"[SEP]\",\n",
    "    mark_fields=True,\n",
    "    feat_cols = [\"paragraph\",\"question\"],\n",
    "    label_cols = \"idxs\",\n",
    "    adjustment = 1\n",
    ")"
   ]
  },
  {
   "cell_type": "code",
   "execution_count": 4,
   "metadata": {
    "ExecuteTime": {
     "end_time": "2020-01-21T20:16:07.771338Z",
     "start_time": "2020-01-21T20:16:07.763001Z"
    }
   },
   "outputs": [],
   "source": [
    "# setting our data directory\n",
    "path = Path(\"../../\")\n",
    "data_path = path/\"data/SQuAD/1.1/\""
   ]
  },
  {
   "cell_type": "markdown",
   "metadata": {
    "ExecuteTime": {
     "end_time": "2019-09-30T20:57:34.043098Z",
     "start_time": "2019-09-30T20:57:34.037768Z"
    }
   },
   "source": [
    "## Loading from CSV"
   ]
  },
  {
   "cell_type": "code",
   "execution_count": 5,
   "metadata": {
    "ExecuteTime": {
     "end_time": "2020-01-21T20:16:08.479951Z",
     "start_time": "2020-01-21T20:16:07.772327Z"
    }
   },
   "outputs": [],
   "source": [
    "# Load Data\n",
    "train = pd.read_csv(data_path/\"train_albert.csv\")\n",
    "val = pd.read_csv(data_path/\"val_albert.csv\")"
   ]
  },
  {
   "cell_type": "code",
   "execution_count": 6,
   "metadata": {
    "ExecuteTime": {
     "end_time": "2020-01-21T20:16:08.483542Z",
     "start_time": "2020-01-21T20:16:08.481272Z"
    }
   },
   "outputs": [],
   "source": [
    "# reduce df sizes if testing\n",
    "if config.testing:\n",
    "    train = train[:10000]\n",
    "    val = val[:2000]"
   ]
  },
  {
   "cell_type": "code",
   "execution_count": 7,
   "metadata": {
    "ExecuteTime": {
     "end_time": "2020-01-21T20:16:08.531949Z",
     "start_time": "2020-01-21T20:16:08.484607Z"
    }
   },
   "outputs": [],
   "source": [
    "# dropping any rows with na values\n",
    "train.dropna(inplace=True)\n",
    "val.dropna(inplace=True)"
   ]
  },
  {
   "cell_type": "code",
   "execution_count": 8,
   "metadata": {
    "ExecuteTime": {
     "end_time": "2020-01-21T20:16:08.536299Z",
     "start_time": "2020-01-21T20:16:08.533675Z"
    }
   },
   "outputs": [],
   "source": [
    "def remove_max_sl(df):\n",
    "    init_len = len(df)\n",
    "    df = df[df.seq_len < config.max_seq_len-2]\n",
    "    new_len = len(df)\n",
    "    print(f\"dropping {init_len - new_len} out of {init_len} questions\")\n",
    "    return df"
   ]
  },
  {
   "cell_type": "code",
   "execution_count": 9,
   "metadata": {
    "ExecuteTime": {
     "end_time": "2020-01-21T20:16:08.556043Z",
     "start_time": "2020-01-21T20:16:08.537901Z"
    }
   },
   "outputs": [
    {
     "name": "stdout",
     "output_type": "stream",
     "text": [
      "dropping 998 out of 87599 questions\n",
      "dropping 643 out of 34726 questions\n"
     ]
    }
   ],
   "source": [
    "train, val = remove_max_sl(train), remove_max_sl(val)"
   ]
  },
  {
   "cell_type": "code",
   "execution_count": 10,
   "metadata": {
    "ExecuteTime": {
     "end_time": "2020-01-21T20:16:08.595070Z",
     "start_time": "2020-01-21T20:16:08.557362Z"
    }
   },
   "outputs": [],
   "source": [
    "# randomizing the order of training data\n",
    "train = train.sample(frac=1,random_state = config.seed).reset_index(drop=True)\n",
    "val = val.sample(frac=1, random_state = config.seed).reset_index(drop=True)"
   ]
  },
  {
   "cell_type": "markdown",
   "metadata": {},
   "source": [
    "## Setting Up the Tokenizer"
   ]
  },
  {
   "cell_type": "code",
   "execution_count": 11,
   "metadata": {
    "ExecuteTime": {
     "end_time": "2020-01-21T20:16:08.602786Z",
     "start_time": "2020-01-21T20:16:08.596353Z"
    }
   },
   "outputs": [],
   "source": [
    "class FastAiBertTokenizer(BaseTokenizer):\n",
    "    \"\"\"Wrapper around BertTokenizer to be compatible with fastai\"\"\"\n",
    "    def __init__(self, tokenizer: AlbertTokenizer, max_seq_len: int=128, **kwargs): \n",
    "        self._pretrained_tokenizer = tokenizer\n",
    "        self.max_seq_len = max_seq_len \n",
    "    def __call__(self, *args, **kwargs): \n",
    "        return self \n",
    "    def tokenizer(self, t:str) -> List[str]: \n",
    "        \"\"\"Adds Bert bos and eos tokens and limits the maximum sequence length\"\"\" \n",
    "        if config.mark_fields:\n",
    "            sub = 2 # subtraction in totoal seq_length to be made due to adding spcl tokens\n",
    "            assert \"xxfld\" in t\n",
    "            t = t.replace(\"xxfld 1\",\"\") # remove the xxfld 1 special token from fastai\n",
    "            # converting fastai field sep token to Bert\n",
    "            t = re.split(r'xxfld \\d+', t) \n",
    "            res = []\n",
    "            for i in range(len(t)-1): # loop over the number of additional fields and the Bert sep\n",
    "                res += self._pretrained_tokenizer.tokenize(t[i]) + [config.end_tok]\n",
    "                sub += 2 # increase our subtractions since we added more spcl tokens\n",
    "            res += self._pretrained_tokenizer.tokenize(t[-1]) # add the last sequence\n",
    "            return [config.start_tok] + res[:self.max_seq_len - sub] + [config.end_tok] \n",
    "        \n",
    "        res = self._pretrained_tokenizer.tokenize(t)\n",
    "        return [config.start_tok] + res[:self.max_seq_len - sub] + [config.end_tok]"
   ]
  },
  {
   "cell_type": "code",
   "execution_count": 12,
   "metadata": {
    "ExecuteTime": {
     "end_time": "2020-01-21T20:16:08.863402Z",
     "start_time": "2020-01-21T20:16:08.604014Z"
    }
   },
   "outputs": [],
   "source": [
    "# create fastai tokenizer for bert\n",
    "bert_tok = AlbertTokenizer.from_pretrained(config.bert_model_name)\n",
    "\n",
    "fastai_tokenizer = Tokenizer(tok_func=FastAiBertTokenizer(bert_tok, max_seq_len=config.max_seq_len), \n",
    "                             pre_rules=[], post_rules=[])\n",
    "\n",
    "fastai_bert_vocab = Vocab([bert_tok.convert_ids_to_tokens(i) for i in range(bert_tok.vocab_size)])"
   ]
  },
  {
   "cell_type": "code",
   "execution_count": 13,
   "metadata": {
    "ExecuteTime": {
     "end_time": "2020-01-21T20:16:08.868935Z",
     "start_time": "2020-01-21T20:16:08.864792Z"
    }
   },
   "outputs": [],
   "source": [
    "# Setting up pre-processors\n",
    "class BertTokenizeProcessor(TokenizeProcessor):\n",
    "    def __init__(self, tokenizer):\n",
    "         super().__init__(tokenizer=tokenizer, include_bos=False, include_eos=False, mark_fields=config.mark_fields)\n",
    "\n",
    "class BertNumericalizeProcessor(NumericalizeProcessor):\n",
    "    def __init__(self, *args, **kwargs):\n",
    "        super().__init__(*args, vocab=fastai_bert_vocab, **kwargs)\n",
    "\n",
    "\n",
    "def get_bert_processor(tokenizer:Tokenizer=None, vocab:Vocab=None):\n",
    "    \"\"\"\n",
    "    Constructing preprocessors for Bert\n",
    "    We remove sos and eos tokens since we add that ourselves in the tokenizer.\n",
    "    We also use a custom vocabulary to match the numericalization with the original Bert model.\n",
    "    \"\"\"\n",
    "    return [BertTokenizeProcessor(tokenizer=tokenizer), NumericalizeProcessor(vocab=vocab)]"
   ]
  },
  {
   "cell_type": "markdown",
   "metadata": {},
   "source": [
    "## Setting up the DataBunch"
   ]
  },
  {
   "cell_type": "code",
   "execution_count": 14,
   "metadata": {
    "ExecuteTime": {
     "end_time": "2020-01-21T20:16:08.884805Z",
     "start_time": "2020-01-21T20:16:08.870073Z"
    }
   },
   "outputs": [],
   "source": [
    "def pad_collate_qa(samples:BatchSamples, pad_idx:int=config.pad_idx, pad_first:bool=True, backwards:bool=False) -> Tuple[LongTensor, LongTensor]:\n",
    "    \"Function that collect samples and adds padding. Flips token order if needed\"\n",
    "    samples = to_data(samples)\n",
    "    max_len = max([len(s[0]) for s in samples])\n",
    "    res_x = torch.zeros(len(samples), max_len).long() + pad_idx\n",
    "    if backwards: pad_first = not pad_first\n",
    "    for i,s in enumerate(samples):\n",
    "        if pad_first: res_x[i,-len(s[0]):] = LongTensor(s[0])\n",
    "        else:         res_x[i,:len(s[0]):] = LongTensor(s[0])\n",
    "    if backwards: res_x = res_x.flip(1)\n",
    "    res_y = torch.stack([s[1] for s in samples])\n",
    "    return res_x, res_y"
   ]
  },
  {
   "cell_type": "code",
   "execution_count": 15,
   "metadata": {
    "ExecuteTime": {
     "end_time": "2020-01-21T20:16:08.895177Z",
     "start_time": "2020-01-21T20:16:08.886115Z"
    }
   },
   "outputs": [],
   "source": [
    "# Creating a Bert specific DataBunch class\n",
    "class BertDataBunch(TextDataBunch):\n",
    "    \"Create a `TextDataBunch` suitable for training Bert\"\n",
    "    @classmethod\n",
    "    def create(cls, train_ds, valid_ds, test_ds=None, path:PathOrStr='.', bs:int=64, val_bs:int=None, pad_idx=1,\n",
    "               pad_first=True, device:torch.device=None, no_check:bool=False, backwards:bool=False, \n",
    "               dl_tfms:Optional[Collection[Callable]]=None, **dl_kwargs) -> DataBunch:\n",
    "        \"Function that transform the `datasets` in a `DataBunch` for classification. Passes `**dl_kwargs` on to `DataLoader()`\"\n",
    "        datasets = cls._init_ds(train_ds, valid_ds, test_ds)\n",
    "        val_bs = ifnone(val_bs, bs)\n",
    "        collate_fn = partial(pad_collate_qa, pad_idx=pad_idx, pad_first=pad_first, backwards=backwards)\n",
    "        train_sampler = SortishSampler(datasets[0].x, key=lambda t: len(datasets[0][t][0].data), bs=bs)\n",
    "        train_dl = DataLoader(datasets[0], batch_size=bs, sampler=train_sampler, drop_last=True, **dl_kwargs)\n",
    "        dataloaders = [train_dl]\n",
    "        for ds in datasets[1:]:\n",
    "            lengths = [len(t) for t in ds.x.items]\n",
    "            sampler = SortSampler(ds.x, key=lengths.__getitem__)\n",
    "            dataloaders.append(DataLoader(ds, batch_size=val_bs, sampler=sampler, **dl_kwargs))\n",
    "        return cls(*dataloaders, path=path, device=device, dl_tfms=dl_tfms, collate_fn=collate_fn, no_check=no_check)"
   ]
  },
  {
   "cell_type": "code",
   "execution_count": 16,
   "metadata": {
    "ExecuteTime": {
     "end_time": "2020-01-21T20:16:08.906967Z",
     "start_time": "2020-01-21T20:16:08.896343Z"
    }
   },
   "outputs": [],
   "source": [
    "# Creating a class for Bert Text Lists\n",
    "class BertTextList(TextList):\n",
    "    _bunch = BertDataBunch\n",
    "    _label_cls = TextList"
   ]
  },
  {
   "cell_type": "code",
   "execution_count": 17,
   "metadata": {
    "ExecuteTime": {
     "end_time": "2020-01-21T20:16:08.916614Z",
     "start_time": "2020-01-21T20:16:08.908069Z"
    }
   },
   "outputs": [],
   "source": [
    "# Creating a special class for QA labels \n",
    "class QAItemList(ItemList):    \n",
    "    def get(self, i):\n",
    "        f = super().get(i)\n",
    "        return str2tensor(f,adj=config.adjustment)"
   ]
  },
  {
   "cell_type": "code",
   "execution_count": 18,
   "metadata": {
    "ExecuteTime": {
     "end_time": "2020-01-21T20:16:49.690616Z",
     "start_time": "2020-01-21T20:16:08.917680Z"
    }
   },
   "outputs": [],
   "source": [
    "# loading the tokenizer and vocab processors\n",
    "processor = get_bert_processor(tokenizer=fastai_tokenizer, vocab=fastai_bert_vocab)\n",
    "\n",
    "# creating our databunch \n",
    "data = ItemLists(\".\", BertTextList.from_df(train, \".\", cols=config.feat_cols, processor=processor),\n",
    "                      BertTextList.from_df(val, \".\", cols=config.feat_cols, processor=processor)\n",
    "                ) \\\n",
    "       .label_from_df(cols=config.label_cols, label_cls=QAItemList) \\\n",
    "       .databunch(bs=config.bs,pad_first=False)"
   ]
  },
  {
   "cell_type": "markdown",
   "metadata": {},
   "source": [
    "## Building the Model"
   ]
  },
  {
   "cell_type": "code",
   "execution_count": 19,
   "metadata": {
    "ExecuteTime": {
     "end_time": "2020-01-21T20:16:49.695625Z",
     "start_time": "2020-01-21T20:16:49.691830Z"
    }
   },
   "outputs": [],
   "source": [
    "# CustomBertModel\n",
    "class CustomBertModel(nn.Module):\n",
    "    def __init__(self):\n",
    "        super(CustomBertModel,self).__init__()\n",
    "        self.bert = AlbertForQuestionAnswering.from_pretrained(config.bert_model_name)\n",
    "        self.bert.train()\n",
    "        \n",
    "    def forward(self, input_ids,token_type_ids=None, attention_mask=None, labels=None):\n",
    "        outputs = self.bert(input_ids)\n",
    "        return outputs"
   ]
  },
  {
   "cell_type": "code",
   "execution_count": 20,
   "metadata": {
    "ExecuteTime": {
     "end_time": "2020-01-21T20:16:49.710947Z",
     "start_time": "2020-01-21T20:16:49.696682Z"
    }
   },
   "outputs": [],
   "source": [
    "# defining the loss function\n",
    "def cross_entropy_qa(input, target):\n",
    "    \"\"\"\n",
    "    Summing the cross entropy loss from the starting and ending indices. \n",
    "    \"\"\"\n",
    "    loss = torch.add(F.cross_entropy(input[0], target[:,0]) , F.cross_entropy(input[1], target[:,1]))\n",
    "    return loss "
   ]
  },
  {
   "cell_type": "code",
   "execution_count": 21,
   "metadata": {
    "ExecuteTime": {
     "end_time": "2020-01-21T20:16:49.720162Z",
     "start_time": "2020-01-21T20:16:49.711987Z"
    }
   },
   "outputs": [],
   "source": [
    "# defining the evaluation metric\n",
    "def acc_qa(input,target):\n",
    "    \"\"\"\n",
    "    Taking the average between the accuracies of predicting the start and ending indices\n",
    "    \"\"\"\n",
    "    return (accuracy(input[0], target[:,0]) + accuracy(input[1], target[:,1]))/2"
   ]
  },
  {
   "cell_type": "code",
   "execution_count": 22,
   "metadata": {
    "ExecuteTime": {
     "end_time": "2020-01-21T20:16:50.507832Z",
     "start_time": "2020-01-21T20:16:49.721257Z"
    }
   },
   "outputs": [],
   "source": [
    "bert_model = CustomBertModel()"
   ]
  },
  {
   "cell_type": "code",
   "execution_count": 23,
   "metadata": {
    "ExecuteTime": {
     "end_time": "2020-01-21T20:16:51.752893Z",
     "start_time": "2020-01-21T20:16:50.510004Z"
    }
   },
   "outputs": [],
   "source": [
    "learn = Learner(data, bert_model, loss_func=cross_entropy_qa, metrics=acc_qa)"
   ]
  },
  {
   "cell_type": "code",
   "execution_count": 24,
   "metadata": {
    "ExecuteTime": {
     "end_time": "2020-01-21T20:16:51.756771Z",
     "start_time": "2020-01-21T20:16:51.754072Z"
    }
   },
   "outputs": [],
   "source": [
    "learn.unfreeze()"
   ]
  },
  {
   "cell_type": "code",
   "execution_count": 25,
   "metadata": {
    "ExecuteTime": {
     "end_time": "2020-01-21T20:17:19.870691Z",
     "start_time": "2020-01-21T20:16:51.757827Z"
    }
   },
   "outputs": [
    {
     "data": {
      "text/html": [],
      "text/plain": [
       "<IPython.core.display.HTML object>"
      ]
     },
     "metadata": {},
     "output_type": "display_data"
    },
    {
     "name": "stdout",
     "output_type": "stream",
     "text": [
      "LR Finder is complete, type {learner_name}.recorder.plot() to see the graph.\n"
     ]
    }
   ],
   "source": [
    "learn.lr_find()"
   ]
  },
  {
   "cell_type": "code",
   "execution_count": 26,
   "metadata": {
    "ExecuteTime": {
     "end_time": "2020-01-21T20:17:20.199064Z",
     "start_time": "2020-01-21T20:17:19.872418Z"
    }
   },
   "outputs": [
    {
     "data": {
      "image/png": "[encoded data removed]",
      "text/plain": [
       "<Figure size 432x288 with 1 Axes>"
      ]
     },
     "metadata": {
      "needs_background": "light"
     },
     "output_type": "display_data"
    }
   ],
   "source": [
    "learn.recorder.plot()"
   ]
  },
  {
   "cell_type": "code",
   "execution_count": null,
   "metadata": {
    "ExecuteTime": {
     "start_time": "2020-01-21T20:16:06.725Z"
    },
    "scrolled": true
   },
   "outputs": [
    {
     "data": {
      "text/html": [
       "\n",
       "    <div>\n",
       "        <style>\n",
       "            /* Turns off some styling */\n",
       "            progress {\n",
       "                /* gets rid of default border in Firefox and Opera. */\n",
       "                border: none;\n",
       "                /* Needs to be in here for Safari polyfill so background images work as expected. */\n",
       "                background-size: auto;\n",
       "            }\n",
       "            .progress-bar-interrupted, .progress-bar-interrupted::-webkit-progress-bar {\n",
       "                background: #F44336;\n",
       "            }\n",
       "        </style>\n",
       "      <progress value='0' class='' max='1', style='width:300px; height:20px; vertical-align: middle;'></progress>\n",
       "      0.00% [0/1 00:00<00:00]\n",
       "    </div>\n",
       "    \n",
       "<table border=\"1\" class=\"dataframe\">\n",
       "  <thead>\n",
       "    <tr style=\"text-align: left;\">\n",
       "      <th>epoch</th>\n",
       "      <th>train_loss</th>\n",
       "      <th>valid_loss</th>\n",
       "      <th>acc_qa</th>\n",
       "      <th>time</th>\n",
       "    </tr>\n",
       "  </thead>\n",
       "  <tbody>\n",
       "  </tbody>\n",
       "</table><p>\n",
       "\n",
       "    <div>\n",
       "        <style>\n",
       "            /* Turns off some styling */\n",
       "            progress {\n",
       "                /* gets rid of default border in Firefox and Opera. */\n",
       "                border: none;\n",
       "                /* Needs to be in here for Safari polyfill so background images work as expected. */\n",
       "                background-size: auto;\n",
       "            }\n",
       "            .progress-bar-interrupted, .progress-bar-interrupted::-webkit-progress-bar {\n",
       "                background: #F44336;\n",
       "            }\n",
       "        </style>\n",
       "      <progress value='6335' class='' max='8521', style='width:300px; height:20px; vertical-align: middle;'></progress>\n",
       "      74.35% [6335/8521 08:20<02:52]\n",
       "    </div>\n",
       "    "
      ],
      "text/plain": [
       "<IPython.core.display.HTML object>"
      ]
     },
     "metadata": {},
     "output_type": "display_data"
    }
   ],
   "source": [
    "learn.fit_one_cycle(1, max_lr=config.max_lr)"
   ]
  },
  {
   "cell_type": "code",
   "execution_count": 100,
   "metadata": {
    "ExecuteTime": {
     "end_time": "2020-01-22T03:01:09.645881Z",
     "start_time": "2020-01-22T03:01:09.597264Z"
    }
   },
   "outputs": [],
   "source": [
    "# save model\n",
    "st = learn.model.state_dict()\n",
    "torch.save(st,\"albert-68.pth\")"
   ]
  },
  {
   "cell_type": "code",
   "execution_count": null,
   "metadata": {
    "ExecuteTime": {
     "end_time": "2020-01-21T23:46:28.064386Z",
     "start_time": "2020-01-21T23:46:28.057322Z"
    }
   },
   "outputs": [],
   "source": [
    "def get_preds(model:nn.Module, dl:DataLoader, pbar:Optional[PBar]=None, cb_handler:Optional[CallbackHandler]=None,\n",
    "    activ:nn.Module=None, loss_func:OptLossFunc=None, n_batch:Optional[int]=None) -> List[Tensor]:\n",
    "    \"Tuple of predictions and targets, and optional losses (if `loss_func`) using `dl`, max batches `n_batch`.\"\n",
    "    \n",
    "    \n",
    "    res = []\n",
    "    for o in zip(*validate(model, dl, cb_handler=cb_handler, pbar=pbar, average=False, n_batch=n_batch)):\n",
    "        res.append(o)\n",
    "    return res"
   ]
  },
  {
   "cell_type": "code",
   "execution_count": 98,
   "metadata": {
    "ExecuteTime": {
     "end_time": "2020-01-22T01:18:43.204421Z",
     "start_time": "2020-01-22T01:18:40.710791Z"
    }
   },
   "outputs": [
    {
     "name": "stdout",
     "output_type": "stream",
     "text": [
      "val accuracy is 0.6860648393630981\n",
      "train accuracy is 0.7335623502731323\n"
     ]
    }
   ],
   "source": [
    "# preds = get_preds(learn.model,data.valid_dl)\n",
    "\n",
    "print(f\"val accuracy is {np.mean([acc_qa(preds[0][i],preds[1][i]) for i in range(len(preds[0]))])}\")\n",
    "\n",
    "# train_preds = get_preds(learn.model,data.train_dl)\n",
    "\n",
    "print(f\"train accuracy is {np.mean([acc_qa(train_preds[0][i],train_preds[1][i]) for i in range(len(train_preds[0]))])}\")\n"
   ]
  },
  {
   "cell_type": "code",
   "execution_count": 95,
   "metadata": {
    "ExecuteTime": {
     "end_time": "2020-01-22T00:18:10.703461Z",
     "start_time": "2020-01-21T23:52:29.430074Z"
    }
   },
   "outputs": [
    {
     "data": {
      "text/html": [
       "\n",
       "    <div>\n",
       "        <style>\n",
       "            /* Turns off some styling */\n",
       "            progress {\n",
       "                /* gets rid of default border in Firefox and Opera. */\n",
       "                border: none;\n",
       "                /* Needs to be in here for Safari polyfill so background images work as expected. */\n",
       "                background-size: auto;\n",
       "            }\n",
       "            .progress-bar-interrupted, .progress-bar-interrupted::-webkit-progress-bar {\n",
       "                background: #F44336;\n",
       "            }\n",
       "        </style>\n",
       "      <progress value='9099' class='' max='21650', style='width:300px; height:20px; vertical-align: middle;'></progress>\n",
       "      42.03% [9099/21650 10:43<14:47]\n",
       "    </div>\n",
       "    "
      ],
      "text/plain": [
       "<IPython.core.display.HTML object>"
      ]
     },
     "metadata": {},
     "output_type": "display_data"
    },
    {
     "name": "stderr",
     "output_type": "stream",
     "text": [
      "IOPub message rate exceeded.\n",
      "The notebook server will temporarily stop sending output\n",
      "to the client in order to avoid crashing it.\n",
      "To change this limit, set the config variable\n",
      "`--NotebookApp.iopub_msg_rate_limit`.\n",
      "\n",
      "Current values:\n",
      "NotebookApp.iopub_msg_rate_limit=1000.0 (msgs/sec)\n",
      "NotebookApp.rate_limit_window=3.0 (secs)\n",
      "\n"
     ]
    }
   ],
   "source": [
    "train_preds = get_preds(learn.model,data.train_dl)"
   ]
  },
  {
   "cell_type": "code",
   "execution_count": 97,
   "metadata": {
    "ExecuteTime": {
     "end_time": "2020-01-22T01:17:27.164202Z",
     "start_time": "2020-01-22T01:17:25.349733Z"
    }
   },
   "outputs": [
    {
     "name": "stdout",
     "output_type": "stream",
     "text": [
      "train accuracy is 0.7335623502731323\n"
     ]
    }
   ],
   "source": [
    "print(f\"train accuracy is {np.mean([acc_qa(train_preds[0][i],train_preds[1][i]) for i in range(len(train_preds[0]))])}\")\n"
   ]
  },
  {
   "cell_type": "markdown",
   "metadata": {},
   "source": [
    "# Scratch"
   ]
  },
  {
   "cell_type": "code",
   "execution_count": null,
   "metadata": {
    "ExecuteTime": {
     "start_time": "2020-01-21T20:16:06.727Z"
    }
   },
   "outputs": [],
   "source": [
    "# tests\n",
    "\n",
    "def check_sl(idx):\n",
    "    seq_len = len(bert_tok.tokenize(train.loc[idx].paragraph + train.loc[idx].question))\n",
    "    match = seq_len == train.loc[idx].seq_len\n",
    "    if not match:\n",
    "        print(seq_len,train.loc[idx])\n",
    "    return match\n",
    "    \n",
    "# [check_sl(i) for i in range(100)]"
   ]
  },
  {
   "cell_type": "code",
   "execution_count": null,
   "metadata": {
    "ExecuteTime": {
     "start_time": "2020-01-21T20:16:06.730Z"
    }
   },
   "outputs": [],
   "source": [
    "# previewing the data\n",
    "\n",
    "def preview(idx):\n",
    "    print(str(data.x[idx]).split(\"[SEP]\")[1])\n",
    "    ans_idx = data.x[idx].data[data.y[idx][0]:data.y[idx][1]]\n",
    "    print(bert_tok.decode(ans_idx))\n",
    "\n",
    "\n",
    "data.x[0].data[data.y[0][0]:data.y[0][1]]\n",
    "\n",
    "\n",
    "for i in range(100):\n",
    "    preview(i)\n",
    "    print(\"\\n\")"
   ]
  },
  {
   "cell_type": "code",
   "execution_count": null,
   "metadata": {},
   "outputs": [],
   "source": []
  }
 ],
 "metadata": {
  "kernelspec": {
   "display_name": "Python 3",
   "language": "python",
   "name": "python3"
  },
  "language_info": {
   "codemirror_mode": {
    "name": "ipython",
    "version": 3
   },
   "file_extension": ".py",
   "mimetype": "text/x-python",
   "name": "python",
   "nbconvert_exporter": "python",
   "pygments_lexer": "ipython3",
   "version": "3.7.3"
  }
 },
 "nbformat": 4,
 "nbformat_minor": 2
}
