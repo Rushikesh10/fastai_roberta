{
 "cells": [
  {
   "cell_type": "markdown",
   "metadata": {},
   "source": [
    "# BERT with Fastai - SquAD Scratch"
   ]
  },
  {
   "cell_type": "code",
   "execution_count": 1,
   "metadata": {
    "ExecuteTime": {
     "end_time": "2020-01-19T17:13:14.342281Z",
     "start_time": "2020-01-19T17:13:13.284129Z"
    }
   },
   "outputs": [],
   "source": [
    "from fastai.text import *\n",
    "from fastai.metrics import *\n",
    "import torch\n",
    "\n",
    "from transformers import BertForQuestionAnswering, BertTokenizer\n",
    "import pickle"
   ]
  },
  {
   "cell_type": "code",
   "execution_count": 2,
   "metadata": {
    "ExecuteTime": {
     "end_time": "2020-01-19T17:13:14.348014Z",
     "start_time": "2020-01-19T17:13:14.343708Z"
    }
   },
   "outputs": [],
   "source": [
    "# defining utility functions\n",
    "def str2tensor(s):\n",
    "    indices = re.findall(\"\\d+\",s)\n",
    "    return torch.tensor([int(indices[0]), int(indices[1])], dtype=torch.long)\n",
    "\n",
    "# Creating a config class to store task specific information\n",
    "class Config(dict):\n",
    "    def __init__(self, **kwargs):\n",
    "        super().__init__(**kwargs)\n",
    "        for k, v in kwargs.items():\n",
    "            setattr(self, k, v)\n",
    "    \n",
    "    def set(self, key, val):\n",
    "        self[key] = val\n",
    "        setattr(self, key, val)"
   ]
  },
  {
   "cell_type": "code",
   "execution_count": 3,
   "metadata": {
    "ExecuteTime": {
     "end_time": "2020-01-19T17:13:14.360354Z",
     "start_time": "2020-01-19T17:13:14.349385Z"
    }
   },
   "outputs": [],
   "source": [
    "# defining our configuration\n",
    "config = Config(\n",
    "    task = \"SquAD\",\n",
    "    testing=False,\n",
    "    seed = 2020,\n",
    "    bert_model_name='bert-base-uncased', # can also be exchanged with bert-large \n",
    "    pad_idx = 0,\n",
    "    max_lr=1e-4,\n",
    "    epochs=1,\n",
    "    use_fp16=False,\n",
    "    bs=8, \n",
    "    max_seq_len=256, \n",
    "    hidden_dropout_prob=.05,\n",
    "    hidden_size=768, # 1024 for bert-large\n",
    "    start_tok = \"[CLS]\",\n",
    "    end_tok = \"[SEP]\",\n",
    "    mark_fields=True,\n",
    ")\n",
    "\n",
    "config.model_name = re.findall(r\"(.+?)-\",config.bert_model_name)[0]"
   ]
  },
  {
   "cell_type": "code",
   "execution_count": 4,
   "metadata": {
    "ExecuteTime": {
     "end_time": "2020-01-19T17:13:14.367964Z",
     "start_time": "2020-01-19T17:13:14.361821Z"
    }
   },
   "outputs": [],
   "source": [
    "# setting our data directory\n",
    "path = Path(\"../../\")\n",
    "data_path = path/\"data/SQuAD/1.1/\""
   ]
  },
  {
   "cell_type": "code",
   "execution_count": 5,
   "metadata": {
    "ExecuteTime": {
     "end_time": "2020-01-19T17:13:15.745780Z",
     "start_time": "2020-01-19T17:13:14.369105Z"
    }
   },
   "outputs": [],
   "source": [
    "# create fastai tokenizer for bert\n",
    "bert_tok = BertTokenizer.from_pretrained(config.bert_model_name)"
   ]
  },
  {
   "cell_type": "markdown",
   "metadata": {
    "ExecuteTime": {
     "end_time": "2019-09-30T20:57:34.043098Z",
     "start_time": "2019-09-30T20:57:34.037768Z"
    }
   },
   "source": [
    "## Loading from CSV"
   ]
  },
  {
   "cell_type": "code",
   "execution_count": 6,
   "metadata": {
    "ExecuteTime": {
     "end_time": "2020-01-19T17:13:15.748948Z",
     "start_time": "2020-01-19T17:13:15.746996Z"
    }
   },
   "outputs": [],
   "source": [
    "feat_cols = [\"question\",\"paragraph\"]\n",
    "label_cols = \"idxs\""
   ]
  },
  {
   "cell_type": "code",
   "execution_count": 7,
   "metadata": {
    "ExecuteTime": {
     "end_time": "2020-01-19T17:13:15.765572Z",
     "start_time": "2020-01-19T17:13:15.750072Z"
    }
   },
   "outputs": [],
   "source": [
    "def load_csv_data():\n",
    "    # Load Data\n",
    "    train = pd.read_csv(data_path/f\"train_{config.model_name}.csv\")\n",
    "    val = pd.read_csv(data_path/f\"val_{config.model_name}.csv\")\n",
    "\n",
    "\n",
    "    # dropping rows with na values\n",
    "    train.dropna(inplace=True)\n",
    "    val.dropna(inplace=True)\n",
    "    \n",
    "    # reduce df sizes if testing\n",
    "    if config.testing:\n",
    "        train = train[:500]\n",
    "        val = val[:250]\n",
    "\n",
    "    # testing to see if our labels are correct\n",
    "    # unique_tok_contexts = {c:bert_tok.tokenize(c) for c in set(train[\"paragraph\"].values)}\n",
    "    # tok_contexts = train.paragraph.map(unique_tok_contexts)\n",
    "\n",
    "    train_in_range = train.idxs.apply(str2tensor).apply(lambda x: True if x[1] < (config.max_seq_len-2) else False)\n",
    "    val_in_range = val.idxs.apply(str2tensor).apply(lambda x: True if x[1] < (config.max_seq_len-2) else False)\n",
    "\n",
    "    print(\"dropping {} out of {} questions in train\".format(sum(~train_in_range),len(train)))\n",
    "    print(\"dropping {} out of {} questions in val\".format(sum(~val_in_range),len(val)))\n",
    "\n",
    "    train = train[train_in_range]\n",
    "    val = val[val_in_range]\n",
    "\n",
    "    # randomizing the order of training data\n",
    "    train = train.sample(frac=1,random_state = config.seed).reset_index(drop=True)\n",
    "    val = val.sample(frac=1, random_state = config.seed).reset_index(drop=True)\n",
    "    return train, val"
   ]
  },
  {
   "cell_type": "markdown",
   "metadata": {},
   "source": [
    "## Setting Up the Tokenizer"
   ]
  },
  {
   "cell_type": "code",
   "execution_count": 8,
   "metadata": {
    "ExecuteTime": {
     "end_time": "2020-01-19T17:13:15.778159Z",
     "start_time": "2020-01-19T17:13:15.767367Z"
    }
   },
   "outputs": [],
   "source": [
    "class FastAiBertTokenizer(BaseTokenizer):\n",
    "    \"\"\"Wrapper around BertTokenizer to be compatible with fastai\"\"\"\n",
    "    def __init__(self, tokenizer: BertTokenizer, max_seq_len: int=128, **kwargs): \n",
    "        self._pretrained_tokenizer = tokenizer\n",
    "        self.max_seq_len = max_seq_len \n",
    "    def __call__(self, *args, **kwargs): \n",
    "        return self \n",
    "    def tokenizer(self, t:str) -> List[str]: \n",
    "        \"\"\"Adds Bert bos and eos tokens and limits the maximum sequence length\"\"\" \n",
    "        if config.mark_fields:\n",
    "            sub = 2 # subtraction in totoal seq_length to be made due to adding spcl tokens\n",
    "            assert \"xxfld\" in t\n",
    "            t = t.replace(\"xxfld 1\",\"\") # remove the xxfld 1 special token from fastai\n",
    "            # converting fastai field sep token to Bert\n",
    "            t = re.split(r'xxfld \\d+', t) \n",
    "            res = []\n",
    "            for i in range(len(t)-1): # loop over the number of additional fields and the Bert sep\n",
    "                res += self._pretrained_tokenizer.tokenize(t[i]) + [config.end_tok]\n",
    "                sub += 2 # increase our subtractions since we added more spcl tokens\n",
    "            res += self._pretrained_tokenizer.tokenize(t[-1]) # add the last sequence\n",
    "            return [config.start_tok] + res[:self.max_seq_len - sub] + [config.end_tok] \n",
    "        \n",
    "        res = self._pretrained_tokenizer.tokenize(t)\n",
    "        return [config.start_tok] + res[:self.max_seq_len - sub] + [config.end_tok]"
   ]
  },
  {
   "cell_type": "code",
   "execution_count": 9,
   "metadata": {
    "ExecuteTime": {
     "end_time": "2020-01-19T17:13:15.794921Z",
     "start_time": "2020-01-19T17:13:15.779599Z"
    }
   },
   "outputs": [],
   "source": [
    "# create fastai tokenizer for bert\n",
    "fastai_tokenizer = Tokenizer(tok_func=FastAiBertTokenizer(bert_tok, max_seq_len=config.max_seq_len), \n",
    "                             pre_rules=[], post_rules=[])\n",
    "\n",
    "fastai_bert_vocab = Vocab(list(bert_tok.vocab.keys()))"
   ]
  },
  {
   "cell_type": "code",
   "execution_count": 10,
   "metadata": {
    "ExecuteTime": {
     "end_time": "2020-01-19T17:13:15.800756Z",
     "start_time": "2020-01-19T17:13:15.796024Z"
    }
   },
   "outputs": [],
   "source": [
    "# Setting up pre-processors\n",
    "class BertTokenizeProcessor(TokenizeProcessor):\n",
    "    def __init__(self, tokenizer):\n",
    "         super().__init__(tokenizer=tokenizer, include_bos=False, include_eos=False, mark_fields=config.mark_fields)\n",
    "\n",
    "class BertNumericalizeProcessor(NumericalizeProcessor):\n",
    "    def __init__(self, *args, **kwargs):\n",
    "        super().__init__(*args, vocab=fastai_bert_vocab, **kwargs)\n",
    "\n",
    "\n",
    "def get_bert_processor(tokenizer:Tokenizer=None, vocab:Vocab=None):\n",
    "    \"\"\"\n",
    "    Constructing preprocessors for Bert\n",
    "    We remove sos and eos tokens since we add that ourselves in the tokenizer.\n",
    "    We also use a custom vocabulary to match the numericalization with the original Bert model.\n",
    "    \"\"\"\n",
    "    return [BertTokenizeProcessor(tokenizer=tokenizer), NumericalizeProcessor(vocab=vocab)]"
   ]
  },
  {
   "cell_type": "markdown",
   "metadata": {},
   "source": [
    "## Setting up the DataBunch"
   ]
  },
  {
   "cell_type": "code",
   "execution_count": 11,
   "metadata": {
    "ExecuteTime": {
     "end_time": "2020-01-19T17:13:15.808187Z",
     "start_time": "2020-01-19T17:13:15.801785Z"
    }
   },
   "outputs": [],
   "source": [
    "def pad_collate_qa(samples:BatchSamples, pad_idx:int=config.pad_idx, pad_first:bool=True, backwards:bool=False) -> Tuple[LongTensor, LongTensor]:\n",
    "    \"Function that collect samples and adds padding. Flips token order if needed\"\n",
    "    samples = to_data(samples)\n",
    "    max_len = max([len(s[0]) for s in samples])\n",
    "    res_x = torch.zeros(len(samples), max_len).long() + pad_idx\n",
    "    if backwards: pad_first = not pad_first\n",
    "    for i,s in enumerate(samples):\n",
    "        if pad_first: res_x[i,-len(s[0]):] = LongTensor(s[0])\n",
    "        else:         res_x[i,:len(s[0]):] = LongTensor(s[0])\n",
    "    if backwards: res_x = res_x.flip(1)\n",
    "    res_y = torch.stack([s[1] for s in samples])\n",
    "    return res_x, res_y"
   ]
  },
  {
   "cell_type": "code",
   "execution_count": 12,
   "metadata": {
    "ExecuteTime": {
     "end_time": "2020-01-19T17:13:15.817777Z",
     "start_time": "2020-01-19T17:13:15.809338Z"
    }
   },
   "outputs": [],
   "source": [
    "# Creating a Bert specific DataBunch class\n",
    "class BertDataBunch(TextDataBunch):\n",
    "    \"Create a `TextDataBunch` suitable for training Bert\"\n",
    "    @classmethod\n",
    "    def create(cls, train_ds, valid_ds, test_ds=None, path:PathOrStr='.', bs:int=64, val_bs:int=None, pad_idx=1,\n",
    "               pad_first=True, device:torch.device=None, no_check:bool=False, backwards:bool=False, \n",
    "               dl_tfms:Optional[Collection[Callable]]=None, **dl_kwargs) -> DataBunch:\n",
    "        \"Function that transform the `datasets` in a `DataBunch` for classification. Passes `**dl_kwargs` on to `DataLoader()`\"\n",
    "        datasets = cls._init_ds(train_ds, valid_ds, test_ds)\n",
    "        val_bs = ifnone(val_bs, bs)\n",
    "        collate_fn = partial(pad_collate_qa, pad_idx=pad_idx, pad_first=pad_first, backwards=backwards)\n",
    "        train_sampler = SortishSampler(datasets[0].x, key=lambda t: len(datasets[0][t][0].data), bs=bs)\n",
    "        train_dl = DataLoader(datasets[0], batch_size=bs, sampler=train_sampler, drop_last=True, **dl_kwargs)\n",
    "        dataloaders = [train_dl]\n",
    "        for ds in datasets[1:]:\n",
    "            lengths = [len(t) for t in ds.x.items]\n",
    "            sampler = SortSampler(ds.x, key=lengths.__getitem__)\n",
    "            dataloaders.append(DataLoader(ds, batch_size=val_bs, sampler=sampler, **dl_kwargs))\n",
    "        return cls(*dataloaders, path=path, device=device, dl_tfms=dl_tfms, collate_fn=collate_fn, no_check=no_check)"
   ]
  },
  {
   "cell_type": "code",
   "execution_count": 13,
   "metadata": {
    "ExecuteTime": {
     "end_time": "2020-01-19T17:13:15.825200Z",
     "start_time": "2020-01-19T17:13:15.819019Z"
    }
   },
   "outputs": [],
   "source": [
    "# Creating a class for Bert Text Lists\n",
    "class BertTextList(TextList):\n",
    "    _bunch = BertDataBunch\n",
    "    _label_cls = TextList"
   ]
  },
  {
   "cell_type": "code",
   "execution_count": 14,
   "metadata": {
    "ExecuteTime": {
     "end_time": "2020-01-19T17:13:15.830832Z",
     "start_time": "2020-01-19T17:13:15.826393Z"
    }
   },
   "outputs": [],
   "source": [
    "# Creating a special class for QA labels \n",
    "class QAItemList(ItemList):    \n",
    "    def get(self, i):\n",
    "        f = super().get(i)\n",
    "        return str2tensor(f)"
   ]
  },
  {
   "cell_type": "code",
   "execution_count": 15,
   "metadata": {
    "ExecuteTime": {
     "end_time": "2020-01-19T17:14:46.018937Z",
     "start_time": "2020-01-19T17:13:15.831917Z"
    }
   },
   "outputs": [],
   "source": [
    "# loading the tokenizer and vocab processors\n",
    "processor = get_bert_processor(tokenizer=fastai_tokenizer, vocab=fastai_bert_vocab)\n",
    "\n",
    "# creating our databunch \n",
    "\n",
    "train,val = load_csv_data()\n",
    "data = ItemLists(\".\", BertTextList.from_df(train, \".\", cols=feat_cols, processor=processor),\n",
    "                      BertTextList.from_df(val, \".\", cols=feat_cols, processor=processor)\n",
    "                ) \\\n",
    "       .label_from_df(cols=label_cols, label_cls=QAItemList) \\\n",
    "       .databunch(bs=config.bs,pad_first=False)"
   ]
  },
  {
   "cell_type": "markdown",
   "metadata": {},
   "source": [
    "## Building the Model"
   ]
  },
  {
   "cell_type": "code",
   "execution_count": 16,
   "metadata": {
    "ExecuteTime": {
     "end_time": "2020-01-19T17:14:46.023948Z",
     "start_time": "2020-01-19T17:14:46.020203Z"
    }
   },
   "outputs": [],
   "source": [
    "# CustomBertModel\n",
    "class CustomBertModel(nn.Module):\n",
    "    def __init__(self):\n",
    "        super(CustomBertModel,self).__init__()\n",
    "        self.bert = BertForQuestionAnswering.from_pretrained(config.bert_model_name)\n",
    "        self.bert.train()\n",
    "        \n",
    "    def forward(self, input_ids,token_type_ids=None, attention_mask=None, labels=None):\n",
    "        outputs = self.bert(input_ids)\n",
    "        return outputs"
   ]
  },
  {
   "cell_type": "code",
   "execution_count": 17,
   "metadata": {
    "ExecuteTime": {
     "end_time": "2020-01-19T17:14:46.036242Z",
     "start_time": "2020-01-19T17:14:46.025283Z"
    }
   },
   "outputs": [],
   "source": [
    "# defining the loss function\n",
    "def cross_entropy_qa(input, target):\n",
    "    \"\"\"\n",
    "    Summing the cross entropy loss from the starting and ending indices. \n",
    "    \"\"\"\n",
    "    loss = torch.add(F.cross_entropy(input[0], target[:,0]) , F.cross_entropy(input[1], target[:,1]))\n",
    "    return loss "
   ]
  },
  {
   "cell_type": "code",
   "execution_count": 18,
   "metadata": {
    "ExecuteTime": {
     "end_time": "2020-01-19T17:14:46.042332Z",
     "start_time": "2020-01-19T17:14:46.037554Z"
    }
   },
   "outputs": [],
   "source": [
    "# defining the evaluation metric\n",
    "def acc_qa(input,target):\n",
    "    \"\"\"\n",
    "    Taking the average between the accuracies of predicting the start and ending indices\n",
    "    \"\"\"\n",
    "    return (accuracy(input[0], target[:,0]) + accuracy(input[1], target[:,1]))/2"
   ]
  },
  {
   "cell_type": "code",
   "execution_count": 19,
   "metadata": {
    "ExecuteTime": {
     "end_time": "2020-01-19T17:14:49.908622Z",
     "start_time": "2020-01-19T17:14:46.043515Z"
    }
   },
   "outputs": [],
   "source": [
    "bert_model = CustomBertModel()"
   ]
  },
  {
   "cell_type": "code",
   "execution_count": 20,
   "metadata": {
    "ExecuteTime": {
     "end_time": "2020-01-19T17:14:51.215793Z",
     "start_time": "2020-01-19T17:14:49.909708Z"
    }
   },
   "outputs": [],
   "source": [
    "learn = Learner(data, bert_model, loss_func=cross_entropy_qa, metrics=acc_qa)"
   ]
  },
  {
   "cell_type": "code",
   "execution_count": null,
   "metadata": {},
   "outputs": [],
   "source": [
    "# load pretrained weights\n",
    "st = torch.load(\"bert_qa-59-acc.pth\")\n",
    "learn.model.load_state_dict(st)"
   ]
  },
  {
   "cell_type": "code",
   "execution_count": 21,
   "metadata": {
    "ExecuteTime": {
     "end_time": "2020-01-19T17:14:51.220407Z",
     "start_time": "2020-01-19T17:14:51.217034Z"
    }
   },
   "outputs": [],
   "source": [
    "learn.unfreeze()"
   ]
  },
  {
   "cell_type": "code",
   "execution_count": 22,
   "metadata": {
    "ExecuteTime": {
     "end_time": "2020-01-19T17:15:38.662178Z",
     "start_time": "2020-01-19T17:14:51.221650Z"
    }
   },
   "outputs": [
    {
     "data": {
      "text/html": [],
      "text/plain": [
       "<IPython.core.display.HTML object>"
      ]
     },
     "metadata": {},
     "output_type": "display_data"
    },
    {
     "name": "stdout",
     "output_type": "stream",
     "text": [
      "LR Finder is complete, type {learner_name}.recorder.plot() to see the graph.\n"
     ]
    }
   ],
   "source": [
    "# learn.lr_find()"
   ]
  },
  {
   "cell_type": "code",
   "execution_count": 23,
   "metadata": {
    "ExecuteTime": {
     "end_time": "2020-01-19T17:15:38.999799Z",
     "start_time": "2020-01-19T17:15:38.664411Z"
    }
   },
   "outputs": [
    {
     "data": {
      "image/png": "[encoded data removed]",
      "text/plain": [
       "<Figure size 432x288 with 1 Axes>"
      ]
     },
     "metadata": {
      "needs_background": "light"
     },
     "output_type": "display_data"
    }
   ],
   "source": [
    "learn.recorder.plot()"
   ]
  },
  {
   "cell_type": "code",
   "execution_count": 24,
   "metadata": {
    "ExecuteTime": {
     "end_time": "2020-01-19T20:10:23.535064Z",
     "start_time": "2020-01-19T17:15:39.001270Z"
    },
    "scrolled": false
   },
   "outputs": [
    {
     "data": {
      "text/html": [
       "<table border=\"1\" class=\"dataframe\">\n",
       "  <thead>\n",
       "    <tr style=\"text-align: left;\">\n",
       "      <th>epoch</th>\n",
       "      <th>train_loss</th>\n",
       "      <th>valid_loss</th>\n",
       "      <th>acc_qa</th>\n",
       "      <th>time</th>\n",
       "    </tr>\n",
       "  </thead>\n",
       "  <tbody>\n",
       "    <tr>\n",
       "      <td>0</td>\n",
       "      <td>4.862212</td>\n",
       "      <td>4.797258</td>\n",
       "      <td>0.318990</td>\n",
       "      <td>1:27:16</td>\n",
       "    </tr>\n",
       "    <tr>\n",
       "      <td>1</td>\n",
       "      <td>2.867516</td>\n",
       "      <td>3.047582</td>\n",
       "      <td>0.595492</td>\n",
       "      <td>1:27:28</td>\n",
       "    </tr>\n",
       "  </tbody>\n",
       "</table>"
      ],
      "text/plain": [
       "<IPython.core.display.HTML object>"
      ]
     },
     "metadata": {},
     "output_type": "display_data"
    }
   ],
   "source": [
    "# learn.fit_one_cycle(2, max_lr=config.max_lr)"
   ]
  },
  {
   "cell_type": "code",
   "execution_count": 27,
   "metadata": {
    "ExecuteTime": {
     "end_time": "2020-01-21T15:40:57.936076Z",
     "start_time": "2020-01-21T15:40:57.635880Z"
    }
   },
   "outputs": [],
   "source": [
    "# save the model\n",
    "st = learn.model.state_dict()\n",
    "type(st)\n",
    "torch.save(st, \"bert_qa-59-acc.pth\")"
   ]
  },
  {
   "cell_type": "code",
   "execution_count": null,
   "metadata": {},
   "outputs": [],
   "source": []
  }
 ],
 "metadata": {
  "kernelspec": {
   "display_name": "Python 3",
   "language": "python",
   "name": "python3"
  },
  "language_info": {
   "codemirror_mode": {
    "name": "ipython",
    "version": 3
   },
   "file_extension": ".py",
   "mimetype": "text/x-python",
   "name": "python",
   "nbconvert_exporter": "python",
   "pygments_lexer": "ipython3",
   "version": "3.7.3"
  }
 },
 "nbformat": 4,
 "nbformat_minor": 2
}
